{
 "cells": [
  {
   "cell_type": "code",
   "execution_count": 1,
   "metadata": {},
   "outputs": [],
   "source": [
    "import json"
   ]
  },
  {
   "cell_type": "code",
   "execution_count": 2,
   "metadata": {},
   "outputs": [
    {
     "name": "stdout",
     "output_type": "stream",
     "text": [
      "geo-processed.json      processing-geomap.ipynb\r\n",
      "geo-unprocessed.json    regions-table.txt\r\n"
     ]
    }
   ],
   "source": [
    "!ls"
   ]
  },
  {
   "cell_type": "code",
   "execution_count": 3,
   "metadata": {},
   "outputs": [],
   "source": [
    "with open('geo-unprocessed.json') as json_file:\n",
    "    data = json.load(json_file)"
   ]
  },
  {
   "cell_type": "code",
   "execution_count": 4,
   "metadata": {},
   "outputs": [
    {
     "data": {
      "text/plain": [
       "85"
      ]
     },
     "execution_count": 4,
     "metadata": {},
     "output_type": "execute_result"
    }
   ],
   "source": [
    "len(data['features'])"
   ]
  },
  {
   "cell_type": "code",
   "execution_count": 5,
   "metadata": {},
   "outputs": [],
   "source": [
    "idn = []\n",
    "for f in data['features']:\n",
    "    idn.append(f['properties']['ID_N'])"
   ]
  },
  {
   "cell_type": "code",
   "execution_count": 6,
   "metadata": {},
   "outputs": [
    {
     "data": {
      "text/plain": [
       "True"
      ]
     },
     "execution_count": 6,
     "metadata": {},
     "output_type": "execute_result"
    }
   ],
   "source": [
    "len(idn) == len(set(idn))"
   ]
  },
  {
   "cell_type": "markdown",
   "metadata": {},
   "source": [
    "[Ссылка на регионы РФ](https://wiki.openstreetmap.org/wiki/RU:%D0%A0%D0%BE%D1%81%D1%81%D0%B8%D1%8F/%D0%A1%D1%83%D0%B1%D1%8A%D0%B5%D0%BA%D1%82%D1%8B_%D0%A0%D0%A4)"
   ]
  },
  {
   "cell_type": "code",
   "execution_count": 7,
   "metadata": {},
   "outputs": [],
   "source": [
    "rmap_name_id = {}\n",
    "rmap_id_tid = {}\n",
    "with open('regions-table.txt') as table_file:\n",
    "    lines = table_file.readlines()\n",
    "    for l in lines:\n",
    "        v = l.split('\\t')\n",
    "        name = v[2]\n",
    "        tid = int(v[1]) # id конституции\n",
    "        nid = int(v[0]) # порядок\n",
    "        \n",
    "        rmap_name_id[name] = tid\n",
    "        rmap_id_tid[nid] = tid"
   ]
  },
  {
   "cell_type": "code",
   "execution_count": 46,
   "metadata": {},
   "outputs": [
    {
     "data": {
      "text/plain": [
       "{'Республика Адыгея': 1,\n",
       " 'Республика Алтай': 4,\n",
       " 'Республика Башкортостан': 2,\n",
       " 'Республика Бурятия': 3,\n",
       " 'Республика Дагестан': 5,\n",
       " 'Республика Ингушетия': 6,\n",
       " 'Кабардино-Балкарская Республика': 7,\n",
       " 'Республика Калмыкия': 8,\n",
       " 'Карачаево-Черкесская Республика': 9,\n",
       " 'Республика Карелия': 10,\n",
       " 'Республика Коми': 11,\n",
       " 'Республика Крым': 91,\n",
       " 'Республика Марий Эл': 12,\n",
       " 'Республика Мордовия': 13,\n",
       " 'Республика Саха (Якутия)': 14,\n",
       " 'Республика Северная Осетия — Алания': 15,\n",
       " 'Республика Татарстан (Татарстан)': 16,\n",
       " 'Республика Тыва (Тува)': 17,\n",
       " 'Удмуртская Республика': 18,\n",
       " 'Республика Хакасия': 19,\n",
       " 'Чеченская Республика': 20,\n",
       " 'Чувашская Республика — Чувашия': 21,\n",
       " 'Алтайский край': 22,\n",
       " 'Забайкальский край': 75,\n",
       " 'Камчатский край': 41,\n",
       " 'Краснодарский край': 23,\n",
       " 'Красноярский край': 24,\n",
       " 'Пермский край': 59,\n",
       " 'Приморский край': 25,\n",
       " 'Ставропольский край': 26,\n",
       " 'Хабаровский край': 27,\n",
       " 'Амурская область': 28,\n",
       " 'Архангельская область': 29,\n",
       " 'Астраханская область': 30,\n",
       " 'Белгородская область': 31,\n",
       " 'Брянская область': 32,\n",
       " 'Владимирская область': 33,\n",
       " 'Волгоградская область': 34,\n",
       " 'Вологодская область': 35,\n",
       " 'Воронежская область': 36,\n",
       " 'Ивановская область': 37,\n",
       " 'Иркутская область': 38,\n",
       " 'Калининградская область': 39,\n",
       " 'Калужская область': 40,\n",
       " 'Кемеровская область': 42,\n",
       " 'Кировская область': 43,\n",
       " 'Костромская область': 44,\n",
       " 'Курганская область': 45,\n",
       " 'Курская область': 46,\n",
       " 'Ленинградская область': 47,\n",
       " 'Липецкая область': 48,\n",
       " 'Магаданская область': 49,\n",
       " 'Московская область': 50,\n",
       " 'Мурманская область': 51,\n",
       " 'Нижегородская область': 52,\n",
       " 'Новгородская область': 53,\n",
       " 'Новосибирская область': 54,\n",
       " 'Омская область': 55,\n",
       " 'Оренбургская область': 56,\n",
       " 'Орловская область': 57,\n",
       " 'Пензенская область': 58,\n",
       " 'Псковская область': 60,\n",
       " 'Ростовская область': 61,\n",
       " 'Рязанская область': 62,\n",
       " 'Самарская область': 63,\n",
       " 'Саратовская область': 64,\n",
       " 'Сахалинская область': 65,\n",
       " 'Свердловская область': 66,\n",
       " 'Смоленская область': 67,\n",
       " 'Тамбовская область': 68,\n",
       " 'Тверская область': 69,\n",
       " 'Томская область': 70,\n",
       " 'Тульская область': 71,\n",
       " 'Тюменская область': 72,\n",
       " 'Ульяновская область': 73,\n",
       " 'Челябинская область': 74,\n",
       " 'Ярославская область': 76,\n",
       " 'Москва': 77,\n",
       " 'Санкт-Петербург': 78,\n",
       " 'Севастополь': 92,\n",
       " 'Еврейская автономная область': 79,\n",
       " 'Ненецкий автономный округ': 83,\n",
       " 'Ханты-Мансийский автономный округ — Югра': 86,\n",
       " 'Чукотский автономный округ': 87,\n",
       " 'Ямало-Ненецкий автономный округ': 89}"
      ]
     },
     "execution_count": 46,
     "metadata": {},
     "output_type": "execute_result"
    }
   ],
   "source": [
    "rmap_name_id"
   ]
  },
  {
   "cell_type": "code",
   "execution_count": 43,
   "metadata": {},
   "outputs": [],
   "source": [
    "import copy\n",
    "data_processed = copy.deepcopy(data)\n",
    "\n",
    "for f in data_processed['features']:\n",
    "    nid = f['properties']['ID_N']\n",
    "    f['properties'] = {}\n",
    "    f['properties']['ID_LAW'] = rmap_id_tid[nid]"
   ]
  },
  {
   "cell_type": "code",
   "execution_count": 44,
   "metadata": {},
   "outputs": [],
   "source": [
    "for f in data_processed['features']:\n",
    "    if f['properties']['ID_LAW'] == 87:\n",
    "        coordinates = f['geometry']['coordinates']\n",
    "        def process_iterable(c):\n",
    "            if type(c[0]) == type([]):\n",
    "                for v in c:\n",
    "                    process_iterable(v)\n",
    "            else:\n",
    "                if c[0] < 0:\n",
    "                    c[0] += 360\n",
    "        process_iterable(coordinates)"
   ]
  },
  {
   "cell_type": "code",
   "execution_count": 45,
   "metadata": {},
   "outputs": [],
   "source": [
    "with open('geo-processed.json', 'w') as outfile:\n",
    "    json.dump(data_processed, outfile, separators=(',', ':'))"
   ]
  },
  {
   "cell_type": "code",
   "execution_count": null,
   "metadata": {},
   "outputs": [],
   "source": []
  }
 ],
 "metadata": {
  "kernelspec": {
   "display_name": "Python 3",
   "language": "python",
   "name": "python3"
  },
  "language_info": {
   "codemirror_mode": {
    "name": "ipython",
    "version": 3
   },
   "file_extension": ".py",
   "mimetype": "text/x-python",
   "name": "python",
   "nbconvert_exporter": "python",
   "pygments_lexer": "ipython3",
   "version": "3.6.8"
  }
 },
 "nbformat": 4,
 "nbformat_minor": 2
}
